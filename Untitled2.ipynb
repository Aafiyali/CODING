{
 "cells": [
  {
   "cell_type": "code",
   "execution_count": 1,
   "id": "99cb9092",
   "metadata": {},
   "outputs": [],
   "source": [
    "def fibnac(limit):\n",
    "    count=0\n",
    "    a=1\n",
    "    b=2\n",
    "    print(a)\n",
    "    print(b)\n",
    "    while count<=limit:\n",
    "        c=a+b\n",
    "        print(c)\n",
    "        count+=1\n",
    "        a=b\n",
    "        b=c"
   ]
  },
  {
   "cell_type": "code",
   "execution_count": 2,
   "id": "21e1de74",
   "metadata": {},
   "outputs": [],
   "source": [
    "def addition(a,b):\n",
    "    c=a+b\n",
    "    print(c)\n"
   ]
  },
  {
   "cell_type": "code",
   "execution_count": 5,
   "id": "371a050d",
   "metadata": {},
   "outputs": [
    {
     "name": "stdout",
     "output_type": "stream",
     "text": [
      "12\n"
     ]
    }
   ],
   "source": [
    "addition(6,6)"
   ]
  },
  {
   "cell_type": "code",
   "execution_count": null,
   "id": "c486d7f5",
   "metadata": {},
   "outputs": [],
   "source": []
  }
 ],
 "metadata": {
  "kernelspec": {
   "display_name": "Python 3 (ipykernel)",
   "language": "python",
   "name": "python3"
  },
  "language_info": {
   "codemirror_mode": {
    "name": "ipython",
    "version": 3
   },
   "file_extension": ".py",
   "mimetype": "text/x-python",
   "name": "python",
   "nbconvert_exporter": "python",
   "pygments_lexer": "ipython3",
   "version": "3.10.8"
  }
 },
 "nbformat": 4,
 "nbformat_minor": 5
}

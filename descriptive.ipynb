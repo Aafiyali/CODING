{
 "cells": [
  {
   "cell_type": "code",
   "execution_count": 1,
   "id": "d447f467",
   "metadata": {},
   "outputs": [],
   "source": [
    "import numpy as np"
   ]
  },
  {
   "cell_type": "code",
   "execution_count": 2,
   "id": "6092341e",
   "metadata": {},
   "outputs": [],
   "source": [
    "import pandas as pd"
   ]
  },
  {
   "cell_type": "code",
   "execution_count": 3,
   "id": "b9c3160a",
   "metadata": {},
   "outputs": [],
   "source": [
    "import matplotlib.pyplot as plt"
   ]
  },
  {
   "cell_type": "code",
   "execution_count": 4,
   "id": "5404511a",
   "metadata": {},
   "outputs": [],
   "source": [
    "%matplotlib inline"
   ]
  },
  {
   "cell_type": "code",
   "execution_count": 5,
   "id": "172cc4c3",
   "metadata": {},
   "outputs": [],
   "source": [
    "mtcars=pd.read_csv(\"C:/Users/ADMIN/Downloads/mtcars (1).csv\")"
   ]
  },
  {
   "cell_type": "code",
   "execution_count": 6,
   "id": "155a899f",
   "metadata": {},
   "outputs": [],
   "source": [
    "mtcars=mtcars.rename(columns={'Unnamed: 0': 'model'})"
   ]
  },
  {
   "cell_type": "code",
   "execution_count": 7,
   "id": "a30c1254",
   "metadata": {},
   "outputs": [],
   "source": [
    "mtcars.index=mtcars.model"
   ]
  },
  {
   "cell_type": "code",
   "execution_count": null,
   "id": "64ca8f7b",
   "metadata": {},
   "outputs": [],
   "source": []
  }
 ],
 "metadata": {
  "kernelspec": {
   "display_name": "Python 3 (ipykernel)",
   "language": "python",
   "name": "python3"
  },
  "language_info": {
   "codemirror_mode": {
    "name": "ipython",
    "version": 3
   },
   "file_extension": ".py",
   "mimetype": "text/x-python",
   "name": "python",
   "nbconvert_exporter": "python",
   "pygments_lexer": "ipython3",
   "version": "3.10.8"
  }
 },
 "nbformat": 4,
 "nbformat_minor": 5
}

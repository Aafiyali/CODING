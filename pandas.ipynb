{
 "cells": [
  {
   "cell_type": "code",
   "execution_count": 5,
   "id": "791eb5a7",
   "metadata": {},
   "outputs": [
    {
     "name": "stdout",
     "output_type": "stream",
     "text": [
      "Requirement already satisfied: pandas in c:\\users\\admin\\.conda\\envs\\aafiyali\\lib\\site-packages (1.5.2)\n",
      "Requirement already satisfied: numpy>=1.21.0 in c:\\users\\admin\\.conda\\envs\\aafiyali\\lib\\site-packages (from pandas) (1.23.5)\n",
      "Requirement already satisfied: python-dateutil>=2.8.1 in c:\\users\\admin\\.conda\\envs\\aafiyali\\lib\\site-packages (from pandas) (2.8.2)\n",
      "Requirement already satisfied: pytz>=2020.1 in c:\\users\\admin\\.conda\\envs\\aafiyali\\lib\\site-packages (from pandas) (2022.6)\n",
      "Requirement already satisfied: six>=1.5 in c:\\users\\admin\\.conda\\envs\\aafiyali\\lib\\site-packages (from python-dateutil>=2.8.1->pandas) (1.16.0)\n",
      "Note: you may need to restart the kernel to use updated packages.\n"
     ]
    }
   ],
   "source": [
    "\n",
    "pip install pandas"
   ]
  },
  {
   "cell_type": "code",
   "execution_count": 1,
   "id": "572b9699",
   "metadata": {},
   "outputs": [],
   "source": [
    "import pandas as aafiya"
   ]
  },
  {
   "cell_type": "code",
   "execution_count": 23,
   "id": "5d73dab9",
   "metadata": {},
   "outputs": [
    {
     "data": {
      "text/plain": [
       "'1.5.2'"
      ]
     },
     "execution_count": 23,
     "metadata": {},
     "output_type": "execute_result"
    }
   ],
   "source": [
    "aafiya.__version__"
   ]
  },
  {
   "cell_type": "markdown",
   "id": "1d93aa15",
   "metadata": {},
   "source": [
    "a1=aafi.series(['one',2,3,4,5],index=[1,2,3])"
   ]
  },
  {
   "cell_type": "code",
   "execution_count": 24,
   "id": "3cecccf1",
   "metadata": {},
   "outputs": [],
   "source": [
    "a1=aafiya.Series(['one',2,3,4,5],index=[0,1,2,3,4])"
   ]
  },
  {
   "cell_type": "code",
   "execution_count": 25,
   "id": "8d237a8c",
   "metadata": {},
   "outputs": [
    {
     "name": "stdout",
     "output_type": "stream",
     "text": [
      "0    one\n",
      "1      2\n",
      "2      3\n",
      "3      4\n",
      "4      5\n",
      "dtype: object\n"
     ]
    }
   ],
   "source": [
    "print(a1)"
   ]
  },
  {
   "cell_type": "code",
   "execution_count": 26,
   "id": "420a556d",
   "metadata": {},
   "outputs": [],
   "source": [
    "season={\"rainy\":{1:'nov',2:'dec',3:'jan',4:'feb'},\"dry\":{1:'mar',2:'apr',3:'may',4:'june'}}"
   ]
  },
  {
   "cell_type": "code",
   "execution_count": 28,
   "id": "a5db03cb",
   "metadata": {},
   "outputs": [],
   "source": [
    "d=aafiya.DataFrame(season,columns=[\"rainy\",\"dry\"])"
   ]
  },
  {
   "cell_type": "code",
   "execution_count": 12,
   "id": "a94dc4ec",
   "metadata": {},
   "outputs": [
    {
     "data": {
      "text/html": [
       "<div>\n",
       "<style scoped>\n",
       "    .dataframe tbody tr th:only-of-type {\n",
       "        vertical-align: middle;\n",
       "    }\n",
       "\n",
       "    .dataframe tbody tr th {\n",
       "        vertical-align: top;\n",
       "    }\n",
       "\n",
       "    .dataframe thead th {\n",
       "        text-align: right;\n",
       "    }\n",
       "</style>\n",
       "<table border=\"1\" class=\"dataframe\">\n",
       "  <thead>\n",
       "    <tr style=\"text-align: right;\">\n",
       "      <th></th>\n",
       "      <th>rainy</th>\n",
       "      <th>dry</th>\n",
       "    </tr>\n",
       "  </thead>\n",
       "  <tbody>\n",
       "    <tr>\n",
       "      <th>1</th>\n",
       "      <td>nov</td>\n",
       "      <td>mar</td>\n",
       "    </tr>\n",
       "    <tr>\n",
       "      <th>2</th>\n",
       "      <td>dec</td>\n",
       "      <td>apr</td>\n",
       "    </tr>\n",
       "    <tr>\n",
       "      <th>3</th>\n",
       "      <td>jan</td>\n",
       "      <td>may</td>\n",
       "    </tr>\n",
       "    <tr>\n",
       "      <th>4</th>\n",
       "      <td>feb</td>\n",
       "      <td>june</td>\n",
       "    </tr>\n",
       "  </tbody>\n",
       "</table>\n",
       "</div>"
      ],
      "text/plain": [
       "  rainy   dry\n",
       "1   nov   mar\n",
       "2   dec   apr\n",
       "3   jan   may\n",
       "4   feb  june"
      ]
     },
     "execution_count": 12,
     "metadata": {},
     "output_type": "execute_result"
    }
   ],
   "source": [
    "d"
   ]
  },
  {
   "cell_type": "code",
   "execution_count": 29,
   "id": "21023104",
   "metadata": {},
   "outputs": [],
   "source": [
    "import numpy as aafi"
   ]
  },
  {
   "cell_type": "code",
   "execution_count": 30,
   "id": "a8a1e474",
   "metadata": {},
   "outputs": [],
   "source": [
    "a=aafiya.DataFrame(aafi.random.randint(0,300,size=(12,6)),columns=list(('abcdef')))"
   ]
  },
  {
   "cell_type": "code",
   "execution_count": 31,
   "id": "e865f0a6",
   "metadata": {},
   "outputs": [
    {
     "name": "stdout",
     "output_type": "stream",
     "text": [
      "      a    b    c    d    e    f\n",
      "0    13  184  197  247  253  266\n",
      "1   220  222   22  271  260   75\n",
      "2   215  123  279    4  269  156\n",
      "3   102   38  296  264  132  243\n",
      "4   223  274  260  126   25  236\n",
      "5   172  108  275  207  203    4\n",
      "6   189  251   40   74  262  261\n",
      "7   155  218  208  151  172   63\n",
      "8   291   89  126   40  136  179\n",
      "9    99  147  245  209  206   74\n",
      "10  284  118  186  100  114   16\n",
      "11   32  232   53   67   26  187\n"
     ]
    }
   ],
   "source": [
    "print(a)"
   ]
  },
  {
   "cell_type": "code",
   "execution_count": 49,
   "id": "3a8d6b00",
   "metadata": {},
   "outputs": [],
   "source": [
    "a.to_csv(\"D:\\pandas.csv\")"
   ]
  },
  {
   "cell_type": "code",
   "execution_count": 50,
   "id": "888fd6d3",
   "metadata": {},
   "outputs": [],
   "source": [
    "a.to_csv(\"D:\\pandas.csv\")"
   ]
  },
  {
   "cell_type": "code",
   "execution_count": 51,
   "id": "88317e86",
   "metadata": {},
   "outputs": [],
   "source": [
    "d=aafiya.read_csv(\"D:\\pandas.csv\")"
   ]
  },
  {
   "cell_type": "code",
   "execution_count": 52,
   "id": "3db55fb8",
   "metadata": {},
   "outputs": [
    {
     "name": "stdout",
     "output_type": "stream",
     "text": [
      "    Unnamed: 0    a    b    c    d    e    f\n",
      "0            0   13  184  197  247  253  266\n",
      "1            1  220  222   22  271  260   75\n",
      "2            2  215  123  279    4  269  156\n",
      "3            3  102   38  296  264  132  243\n",
      "4            4  223  274  260  126   25  236\n",
      "5            5  172  108  275  207  203    4\n",
      "6            6  189  251   40   74  262  261\n",
      "7            7  155  218  208  151  172   63\n",
      "8            8  291   89  126   40  136  179\n",
      "9            9   99  147  245  209  206   74\n",
      "10          10  284  118  186  100  114   16\n",
      "11          11   32  232   53   67   26  187\n"
     ]
    }
   ],
   "source": [
    "print(d)"
   ]
  },
  {
   "cell_type": "code",
   "execution_count": 54,
   "id": "27487c13",
   "metadata": {},
   "outputs": [
    {
     "data": {
      "text/html": [
       "<div>\n",
       "<style scoped>\n",
       "    .dataframe tbody tr th:only-of-type {\n",
       "        vertical-align: middle;\n",
       "    }\n",
       "\n",
       "    .dataframe tbody tr th {\n",
       "        vertical-align: top;\n",
       "    }\n",
       "\n",
       "    .dataframe thead th {\n",
       "        text-align: right;\n",
       "    }\n",
       "</style>\n",
       "<table border=\"1\" class=\"dataframe\">\n",
       "  <thead>\n",
       "    <tr style=\"text-align: right;\">\n",
       "      <th></th>\n",
       "      <th>a</th>\n",
       "      <th>b</th>\n",
       "      <th>c</th>\n",
       "      <th>d</th>\n",
       "      <th>e</th>\n",
       "      <th>f</th>\n",
       "    </tr>\n",
       "  </thead>\n",
       "  <tbody>\n",
       "    <tr>\n",
       "      <th>0</th>\n",
       "      <td>13</td>\n",
       "      <td>184</td>\n",
       "      <td>197</td>\n",
       "      <td>247</td>\n",
       "      <td>253</td>\n",
       "      <td>266</td>\n",
       "    </tr>\n",
       "    <tr>\n",
       "      <th>1</th>\n",
       "      <td>220</td>\n",
       "      <td>222</td>\n",
       "      <td>22</td>\n",
       "      <td>271</td>\n",
       "      <td>260</td>\n",
       "      <td>75</td>\n",
       "    </tr>\n",
       "    <tr>\n",
       "      <th>2</th>\n",
       "      <td>215</td>\n",
       "      <td>123</td>\n",
       "      <td>279</td>\n",
       "      <td>4</td>\n",
       "      <td>269</td>\n",
       "      <td>156</td>\n",
       "    </tr>\n",
       "    <tr>\n",
       "      <th>3</th>\n",
       "      <td>102</td>\n",
       "      <td>38</td>\n",
       "      <td>296</td>\n",
       "      <td>264</td>\n",
       "      <td>132</td>\n",
       "      <td>243</td>\n",
       "    </tr>\n",
       "    <tr>\n",
       "      <th>4</th>\n",
       "      <td>223</td>\n",
       "      <td>274</td>\n",
       "      <td>260</td>\n",
       "      <td>126</td>\n",
       "      <td>25</td>\n",
       "      <td>236</td>\n",
       "    </tr>\n",
       "    <tr>\n",
       "      <th>5</th>\n",
       "      <td>172</td>\n",
       "      <td>108</td>\n",
       "      <td>275</td>\n",
       "      <td>207</td>\n",
       "      <td>203</td>\n",
       "      <td>4</td>\n",
       "    </tr>\n",
       "    <tr>\n",
       "      <th>6</th>\n",
       "      <td>189</td>\n",
       "      <td>251</td>\n",
       "      <td>40</td>\n",
       "      <td>74</td>\n",
       "      <td>262</td>\n",
       "      <td>261</td>\n",
       "    </tr>\n",
       "    <tr>\n",
       "      <th>7</th>\n",
       "      <td>155</td>\n",
       "      <td>218</td>\n",
       "      <td>208</td>\n",
       "      <td>151</td>\n",
       "      <td>172</td>\n",
       "      <td>63</td>\n",
       "    </tr>\n",
       "    <tr>\n",
       "      <th>8</th>\n",
       "      <td>291</td>\n",
       "      <td>89</td>\n",
       "      <td>126</td>\n",
       "      <td>40</td>\n",
       "      <td>136</td>\n",
       "      <td>179</td>\n",
       "    </tr>\n",
       "    <tr>\n",
       "      <th>9</th>\n",
       "      <td>99</td>\n",
       "      <td>147</td>\n",
       "      <td>245</td>\n",
       "      <td>209</td>\n",
       "      <td>206</td>\n",
       "      <td>74</td>\n",
       "    </tr>\n",
       "    <tr>\n",
       "      <th>10</th>\n",
       "      <td>284</td>\n",
       "      <td>118</td>\n",
       "      <td>186</td>\n",
       "      <td>100</td>\n",
       "      <td>114</td>\n",
       "      <td>16</td>\n",
       "    </tr>\n",
       "    <tr>\n",
       "      <th>11</th>\n",
       "      <td>32</td>\n",
       "      <td>232</td>\n",
       "      <td>53</td>\n",
       "      <td>67</td>\n",
       "      <td>26</td>\n",
       "      <td>187</td>\n",
       "    </tr>\n",
       "  </tbody>\n",
       "</table>\n",
       "</div>"
      ],
      "text/plain": [
       "      a    b    c    d    e    f\n",
       "0    13  184  197  247  253  266\n",
       "1   220  222   22  271  260   75\n",
       "2   215  123  279    4  269  156\n",
       "3   102   38  296  264  132  243\n",
       "4   223  274  260  126   25  236\n",
       "5   172  108  275  207  203    4\n",
       "6   189  251   40   74  262  261\n",
       "7   155  218  208  151  172   63\n",
       "8   291   89  126   40  136  179\n",
       "9    99  147  245  209  206   74\n",
       "10  284  118  186  100  114   16\n",
       "11   32  232   53   67   26  187"
      ]
     },
     "execution_count": 54,
     "metadata": {},
     "output_type": "execute_result"
    }
   ],
   "source": [
    "d.drop(\"Unnamed: 0\",axis=1)"
   ]
  },
  {
   "cell_type": "code",
   "execution_count": 55,
   "id": "4d0fee1f",
   "metadata": {},
   "outputs": [
    {
     "data": {
      "text/plain": [
       "(12, 7)"
      ]
     },
     "execution_count": 55,
     "metadata": {},
     "output_type": "execute_result"
    }
   ],
   "source": [
    "d.shape"
   ]
  },
  {
   "cell_type": "code",
   "execution_count": 56,
   "id": "d4bfdb15",
   "metadata": {},
   "outputs": [
    {
     "name": "stdout",
     "output_type": "stream",
     "text": [
      "<class 'pandas.core.frame.DataFrame'>\n",
      "RangeIndex: 12 entries, 0 to 11\n",
      "Data columns (total 7 columns):\n",
      " #   Column      Non-Null Count  Dtype\n",
      "---  ------      --------------  -----\n",
      " 0   Unnamed: 0  12 non-null     int64\n",
      " 1   a           12 non-null     int64\n",
      " 2   b           12 non-null     int64\n",
      " 3   c           12 non-null     int64\n",
      " 4   d           12 non-null     int64\n",
      " 5   e           12 non-null     int64\n",
      " 6   f           12 non-null     int64\n",
      "dtypes: int64(7)\n",
      "memory usage: 800.0 bytes\n"
     ]
    }
   ],
   "source": [
    "d.info()"
   ]
  },
  {
   "cell_type": "code",
   "execution_count": null,
   "id": "53de839f",
   "metadata": {},
   "outputs": [],
   "source": []
  }
 ],
 "metadata": {
  "kernelspec": {
   "display_name": "Python 3 (ipykernel)",
   "language": "python",
   "name": "python3"
  },
  "language_info": {
   "codemirror_mode": {
    "name": "ipython",
    "version": 3
   },
   "file_extension": ".py",
   "mimetype": "text/x-python",
   "name": "python",
   "nbconvert_exporter": "python",
   "pygments_lexer": "ipython3",
   "version": "3.10.8"
  }
 },
 "nbformat": 4,
 "nbformat_minor": 5
}

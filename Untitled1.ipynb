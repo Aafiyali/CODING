{
 "cells": [
  {
   "cell_type": "code",
   "execution_count": 1,
   "id": "7c82960e",
   "metadata": {},
   "outputs": [
    {
     "ename": "SyntaxError",
     "evalue": "invalid syntax (1719731280.py, line 1)",
     "output_type": "error",
     "traceback": [
      "\u001b[1;36m  Cell \u001b[1;32mIn [1], line 1\u001b[1;36m\u001b[0m\n\u001b[1;33m    if:<statement(s0)>elif:<statement(s)>else:<statement(s)>\u001b[0m\n\u001b[1;37m      ^\u001b[0m\n\u001b[1;31mSyntaxError\u001b[0m\u001b[1;31m:\u001b[0m invalid syntax\n"
     ]
    }
   ],
   "source": []
  },
  {
   "cell_type": "code",
   "execution_count": 4,
   "id": "b50ef7b9",
   "metadata": {},
   "outputs": [
    {
     "name": "stdout",
     "output_type": "stream",
     "text": [
      "enter time13\n",
      "this is evening\n"
     ]
    }
   ],
   "source": [
    "timenow=input(\"enter time\")\n",
    "notif={1:\"wake\",2:\"this is afternoon\",3:\"this is evening\"}\n",
    "if int(timenow)<6:\n",
    "    print(f\"time is up{notif[1]}\")\n",
    "elif int(timenow)==12:\n",
    "    print(notif[2])\n",
    "elif int(timenow)>12:\n",
    "    print(notif[3])"
   ]
  },
  {
   "cell_type": "code",
   "execution_count": 5,
   "id": "b742646f",
   "metadata": {},
   "outputs": [],
   "source": [
    "fare_per_km=6"
   ]
  },
  {
   "cell_type": "code",
   "execution_count": 7,
   "id": "97041f99",
   "metadata": {},
   "outputs": [
    {
     "name": "stdout",
     "output_type": "stream",
     "text": [
      "your total fare for 1km is 6\n",
      "your total fare for 1km is 6\n",
      "your total fare for 1km is 6\n",
      "your total fare for 1km is 6\n",
      "your total fare for 1km is 6\n",
      "your total fare for 1km is 6\n",
      "your total fare for7km is 42\n",
      "your total fare for8km is 48\n",
      "your total fare for9km is 54\n",
      "your total fare for10km is 60\n",
      "your total fare for11km is 66\n",
      "your total fare for12km is 72\n",
      "your total fare for13km is 78\n",
      "your total fare for14km is 84\n",
      "your total fare for15km is 90\n",
      "your total fare for16km is 96\n",
      "your total fare for17km is 102\n",
      "your total fare for18km is 108\n",
      "your total fare for19km is 114\n",
      "your total fare for20km is 120\n",
      "your total fare for21km is 126\n",
      "your total fare for22km is 132\n",
      "your total fare for23km is 138\n",
      "your total fare for24km is 144\n",
      "your total fare for25km is 150\n",
      "your total fare for26km is 156\n",
      "your total fare for27km is 162\n",
      "your total fare for28km is 168\n",
      "your total fare for29km is 174\n"
     ]
    }
   ],
   "source": [
    "for dist in range(1,30):\n",
    "    if dist>6:\n",
    "        total_fare=dist*6\n",
    "        print(f\"your total fare for{dist}km is {total_fare}\")\n",
    "    else:\n",
    "            print(f\"your total fare for 1km is 6\")"
   ]
  },
  {
   "cell_type": "code",
   "execution_count": null,
   "id": "16d16327",
   "metadata": {},
   "outputs": [],
   "source": []
  }
 ],
 "metadata": {
  "kernelspec": {
   "display_name": "Python 3 (ipykernel)",
   "language": "python",
   "name": "python3"
  },
  "language_info": {
   "codemirror_mode": {
    "name": "ipython",
    "version": 3
   },
   "file_extension": ".py",
   "mimetype": "text/x-python",
   "name": "python",
   "nbconvert_exporter": "python",
   "pygments_lexer": "ipython3",
   "version": "3.10.8"
  }
 },
 "nbformat": 4,
 "nbformat_minor": 5
}
